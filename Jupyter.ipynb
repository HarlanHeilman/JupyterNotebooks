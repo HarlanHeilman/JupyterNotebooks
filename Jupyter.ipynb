{
 "cells": [
  {
   "cell_type": "markdown",
   "id": "a9094587-ca38-4c7c-8a46-dcfca0c3b5e0",
   "metadata": {},
   "source": [
    "## Intro to Jupyter\n",
    "### Harlan Heilman\n",
    "Notebook documents or notebooks are documents produced by the Jupyter Notebook App, which contain both computer code (e.g. python) and rich text elements (paragraph, equations, figures, links, markdown, etc…). Notebook documents are both human-readable documents containing the analysis description and the results (figures, tables, etc..) as well as executable documents which can be run to perform data analysis.\n",
    "\n",
    "There are several apps that are used to run notebooks but the most common two are Jupyter Lab for a more modern browser gui, and the classica Jupyter notebook. To install these, I recomend first installing [Anaconda](https://www.anaconda.com/) on your personal computer and then using it to install [Jupyter lab/notebook](https://docs.anaconda.com/navigator/overview/#navigator-pages). Alternately, this can be ran using a remote server and acessed theough the internet. \n"
   ]
  },
  {
   "cell_type": "markdown",
   "id": "5d30d112-ac28-4171-99b8-c3ec05fdb726",
   "metadata": {},
   "source": [
    "### The Kernel \n",
    "\n",
    "The Kernel is the \n",
    "\n",
    "\n"
   ]
  }
 ],
 "metadata": {
  "kernelspec": {
   "display_name": "Python 3 (ipykernel)",
   "language": "python",
   "name": "python3"
  },
  "language_info": {
   "codemirror_mode": {
    "name": "ipython",
    "version": 3
   },
   "file_extension": ".py",
   "mimetype": "text/x-python",
   "name": "python",
   "nbconvert_exporter": "python",
   "pygments_lexer": "ipython3",
   "version": "3.9.7"
  }
 },
 "nbformat": 4,
 "nbformat_minor": 5
}
