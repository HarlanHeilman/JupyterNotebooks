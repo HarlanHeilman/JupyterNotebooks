{
 "cells": [
  {
   "cell_type": "markdown",
   "id": "a9094587-ca38-4c7c-8a46-dcfca0c3b5e0",
   "metadata": {},
   "source": [
    "# Data Analysis \n",
    "### *Harlan Heilman*\n",
    "\n",
    "If we have a set of data that we want to analyse there are several ways that it can be done. The general process is as follows:\n",
    "\n",
    "1. Load the data into some object, a list, array, dataframe, etc.\n",
    "2. Plot the data on a graph.\n",
    "3. Determine the type of function needed to fit the data.\n",
    "4. Plot the data allong with it's regression. \n",
    "\n",
    "Different groups look for different things as they fit their data, and as such there are many packages that have been built focusing on making certian things easier. The main three packages are\n",
    "\n",
    "- `numpy` - This is a basis array based python package that is mostly written in C and used for analysis of large dimensional arrays or matriceis \n",
    "- `scipy` - This uses numpy's array structure but is expanded to include modules desighned to be used by the science community\n",
    "- `matplotlib.pyplot` - The standard python plotting package that allows for generation of complex figures based on data.\n",
    "\n",
    "As we could imagine we will need both packages to start fitting out data. Run the following cell of code to check if the active kernel has `numpy` and `scipy` installed. If it does, it will import their packages allowing you to call any of their built in fucntions; and if it does not it will attempt to pip install them. "
   ]
  },
  {
   "cell_type": "code",
   "execution_count": 4,
   "id": "e29b420a-5ae3-479c-9045-18898b5661d7",
   "metadata": {},
   "outputs": [],
   "source": [
    "try:\n",
    "    import numpy as np; import scipy as sc; import matplotlib.pyplot as plt\n",
    "except ImportError:\n",
    "    import sys\n",
    "    !{sys.executable} -m pip install numpy scipy matplotlib \n",
    "    print(\"Restart your kernel and try again\")"
   ]
  },
  {
   "cell_type": "markdown",
   "id": "2b19b015-e28e-4026-820f-e73d3b26b42e",
   "metadata": {},
   "source": [
    "Now that the prior cell has been run, this notebook has the `numpy` and `scipy` packages installed in a way where we can use **np.(built in function)**,  **sc.(built in function)**, and **plt.(built in function)** to run functions from any of these packages. "
   ]
  },
  {
   "cell_type": "markdown",
   "id": "990f52c7-744c-4f2c-b688-afbff9469a42",
   "metadata": {},
   "source": [
    "## Importing Data\n",
    "\n",
    "To start off, we generate some random data using a set seed random number generator from numpy. This way we are allways working with the same data. "
   ]
  },
  {
   "cell_type": "code",
   "execution_count": 12,
   "id": "a4b82fad-c371-4e89-ba65-e47766aee6b5",
   "metadata": {},
   "outputs": [
    {
     "data": {
      "text/plain": [
       "[<matplotlib.lines.Line2D at 0x250e51c5370>]"
      ]
     },
     "execution_count": 12,
     "metadata": {},
     "output_type": "execute_result"
    },
    {
     "data": {
      "image/png": "[encoded data removed]",
      "text/plain": [
       "<Figure size 432x288 with 1 Axes>"
      ]
     },
     "metadata": {
      "needs_background": "light"
     },
     "output_type": "display_data"
    }
   ],
   "source": [
    "# Its a good idea to include all your imports needed to run the cell since you dont have to re-run cells all the time\n",
    "import numpy as np; import matplotlib.pyplot as plt\n",
    "\n",
    "# we set the rng seed to 1 so the cell will allways generate the same data\n",
    "rng = np.random.default_rng(seed=2)\n",
    "\n",
    "# generates a normal distribution centered at 1 for the x-values. Then sorts the data for a monotomic increasing function\n",
    "x = np.sort(rng.normal(loc=1, scale=1, size=100))\n",
    "# generates uniform for y data, then sorts it\n",
    "y = np.sort(rng.random(size = 100))\n",
    "\n",
    "plt.plot(x,y)"
   ]
  },
  {
   "cell_type": "markdown",
   "id": "21b7ac34-8280-4b94-acb1-80e5a4a3177c",
   "metadata": {},
   "source": [
    "Normally we want to load this data as a text file of some sort. To simulate this, lets save our random data as a text file."
   ]
  },
  {
   "cell_type": "code",
   "execution_count": 46,
   "id": "4ce0f955-b826-41a0-a3e5-23a4bbd65c86",
   "metadata": {},
   "outputs": [],
   "source": [
    "np.savetxt('RNRdata', np.c_[x,y])"
   ]
  },
  {
   "cell_type": "markdown",
   "id": "d9c492e3-e931-47db-af62-c552e5c0f1e9",
   "metadata": {},
   "source": []
  }
 ],
 "metadata": {
  "kernelspec": {
   "display_name": "Python 3 (ipykernel)",
   "language": "python",
   "name": "python3"
  },
  "language_info": {
   "codemirror_mode": {
    "name": "ipython",
    "version": 3
   },
   "file_extension": ".py",
   "mimetype": "text/x-python",
   "name": "python",
   "nbconvert_exporter": "python",
   "pygments_lexer": "ipython3",
   "version": "3.9.7"
  }
 },
 "nbformat": 4,
 "nbformat_minor": 5
}
