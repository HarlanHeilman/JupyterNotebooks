{
 "cells": [
  {
   "cell_type": "code",
   "execution_count": 2,
   "id": "66b375a6-4b48-4ea8-a179-ab2254979744",
   "metadata": {},
   "outputs": [],
   "source": [
    "try:\n",
    "    import numpy as np; import scipy as sc; import matplotlib.pyplot as plt; import uncertainties; import pandas as pd\n",
    "except ImportError:\n",
    "    import sys\n",
    "    !{sys.executable} -m pip install numpy scipy matplotlib pathlib uncertainties pandas\n",
    "    print(\"Restart your kernel and try again\")"
   ]
  },
  {
   "attachments": {},
   "cell_type": "markdown",
   "id": "52bf5e32-23c4-4b45-ba99-7d2c317084c3",
   "metadata": {
    "tags": []
   },
   "source": [
    "## Importing Data\n",
    "\n",
    "We will use the `xray.dat` file to look at some random xray data collected from a database. "
   ]
  },
  {
   "cell_type": "code",
   "execution_count": 48,
   "id": "1ea17b02-2f9f-45be-b956-15058ea44aa4",
   "metadata": {},
   "outputs": [
    {
     "name": "stdout",
     "output_type": "stream",
     "text": [
      "[[3.00000000e+01 2.74695814e-01 2.10541397e-01]\n",
      " [3.17943592e+01 2.52507478e-01 1.77698180e-01]\n",
      " [3.36960373e+01 2.29885429e-01 1.50933087e-01]\n",
      " [3.57114601e+01 2.08661109e-01 1.28647909e-01]\n",
      " [3.78474312e+01 1.88787311e-01 1.11478753e-01]\n",
      " [4.01111603e+01 1.71800867e-01 9.50368643e-02]\n",
      " [4.25102806e+01 1.55344576e-01 8.09292868e-02]\n",
      " [4.50529022e+01 1.40007377e-01 6.89392835e-02]\n",
      " [4.77476006e+01 1.25937611e-01 5.84604815e-02]\n",
      " [5.06034737e+01 1.12534918e-01 4.94157784e-02]\n",
      " [5.36301651e+01 9.95348394e-02 4.24334817e-02]\n",
      " [5.68378868e+01 8.90907496e-02 3.67015153e-02]\n",
      " [6.02374725e+01 7.92772546e-02 3.15241478e-02]\n",
      " [6.38403854e+01 7.04302415e-02 2.71354113e-02]\n",
      " [6.76587982e+01 6.24897256e-02 2.32612584e-02]\n",
      " [7.17056046e+01 5.52954525e-02 1.97182391e-02]\n",
      " [7.59944458e+01 4.84313555e-02 1.63858943e-02]\n",
      " [8.05398178e+01 4.15830836e-02 1.35402465e-02]\n",
      " [8.53570633e+01 3.50219496e-02 1.13902492e-02]\n",
      " [9.04624252e+01 2.86002588e-02 9.70565714e-03]\n",
      " [9.58731613e+01 2.13203020e-02 8.32579378e-03]\n",
      " [1.01607513e+02 1.72684453e-02 1.97257493e-02]\n",
      " [1.07684845e+02 1.33424411e-02 1.69584360e-02]\n",
      " [1.14125687e+02 1.25209801e-02 1.84267275e-02]\n",
      " [1.20951752e+02 1.38021950e-02 2.06121039e-02]\n",
      " [1.28186096e+02 1.49960341e-02 1.96741708e-02]\n",
      " [1.35853149e+02 1.67418662e-02 1.75761692e-02]\n",
      " [1.43978790e+02 1.52034638e-02 1.55628985e-02]\n",
      " [1.52590439e+02 1.50311133e-02 1.48006994e-02]\n",
      " [1.61717163e+02 1.40530486e-02 1.33730303e-02]\n",
      " [1.71389786e+02 1.49248727e-02 1.22180842e-02]\n",
      " [1.81640930e+02 1.38376653e-02 9.58445296e-03]\n",
      " [1.92505203e+02 1.27643002e-02 8.23021214e-03]\n",
      " [2.04019302e+02 1.17401369e-02 7.05672987e-03]\n",
      " [2.16222076e+02 1.07942857e-02 6.08805241e-03]\n",
      " [2.29154739e+02 9.94360354e-03 5.19034825e-03]\n",
      " [2.42860901e+02 9.08031408e-03 4.39112913e-03]\n",
      " [2.57386902e+02 8.26160051e-03 3.69598134e-03]\n",
      " [2.72781677e+02 7.46824685e-03 3.10001895e-03]\n",
      " [2.89097260e+02 6.72208797e-03 2.60036206e-03]\n",
      " [3.06388733e+02 6.03106571e-03 2.17587175e-03]\n",
      " [3.24714417e+02 5.38107334e-03 1.81305874e-03]\n",
      " [3.44136200e+02 4.76796366e-03 1.51010801e-03]\n",
      " [3.64719635e+02 4.18495154e-03 1.25798909e-03]\n",
      " [3.86534210e+02 3.57631105e-03 1.03154778e-03]\n",
      " [4.09653564e+02 1.62937550e-03 8.45118950e-04]\n",
      " [4.34155701e+02 2.99504818e-03 1.50246546e-03]\n",
      " [4.60123383e+02 2.87688593e-03 1.23665459e-03]\n",
      " [4.87644257e+02 2.67339824e-03 1.01532182e-03]\n",
      " [5.16811157e+02 2.44814274e-03 8.33360769e-04]\n",
      " [5.47722595e+02 2.22446304e-03 6.84028550e-04]\n",
      " [5.80482971e+02 2.01303093e-03 5.59394422e-04]\n",
      " [6.15202759e+02 1.81232195e-03 4.54043999e-04]\n",
      " [6.51999146e+02 1.62529072e-03 3.68379639e-04]\n",
      " [6.90996460e+02 1.45366893e-03 2.98881670e-04]\n",
      " [7.32326233e+02 1.29785354e-03 2.43363538e-04]\n",
      " [7.76128052e+02 1.15811848e-03 1.98166264e-04]\n",
      " [8.22549744e+02 1.03252532e-03 1.60390773e-04]\n",
      " [8.71748047e+02 9.19062411e-04 1.29592518e-04]\n",
      " [9.23888916e+02 8.17604712e-04 1.04533152e-04]\n",
      " [9.79148499e+02 7.26434577e-04 8.39168497e-05]\n",
      " [1.03771313e+03 6.44777960e-04 6.73592294e-05]\n",
      " [1.09978076e+03 5.71734272e-04 5.40419896e-05]\n",
      " [1.16556067e+03 5.06673299e-04 4.35957190e-05]\n",
      " [1.23527515e+03 4.48807026e-04 3.51679228e-05]\n",
      " [1.30915918e+03 3.97226715e-04 2.83050831e-05]\n",
      " [1.38746252e+03 3.51105176e-04 2.27543078e-05]\n",
      " [1.47044946e+03 3.09759431e-04 1.82863696e-05]\n",
      " [1.55839966e+03 2.72407284e-04 1.46623906e-05]\n",
      " [1.65161047e+03 2.38011300e-04 1.17451655e-05]\n",
      " [1.75039648e+03 2.04089854e-04 9.40213977e-06]\n",
      " [1.85509106e+03 1.66134516e-04 4.07525113e-05]\n",
      " [1.96604761e+03 1.68702565e-04 3.33628668e-05]\n",
      " [2.08364038e+03 1.56284892e-04 2.72917387e-05]\n",
      " [2.20826709e+03 1.42348406e-04 2.22358012e-05]\n",
      " [2.34034766e+03 1.28664586e-04 1.80765692e-05]\n",
      " [2.48032837e+03 1.15774339e-04 1.46646644e-05]\n",
      " [2.62868140e+03 1.03861792e-04 1.18745338e-05]\n",
      " [2.78590771e+03 9.29802263e-05 9.59923273e-06]\n",
      " [2.95253809e+03 8.31075959e-05 7.74792716e-06]\n",
      " [3.12913525e+03 7.41954645e-05 6.24497352e-06]\n",
      " [3.31629443e+03 6.61790982e-05 5.02724652e-06]\n",
      " [3.51464868e+03 5.89859810e-05 4.04197499e-06]\n",
      " [3.72486621e+03 5.25462383e-05 3.24639336e-06]\n",
      " [3.94765771e+03 4.67892824e-05 2.60475849e-06]\n",
      " [4.18377441e+03 4.16489784e-05 2.08795655e-06]\n",
      " [4.43401367e+03 3.70640737e-05 1.67236635e-06]\n",
      " [4.69922070e+03 3.29774957e-05 1.33838284e-06]\n",
      " [4.98028955e+03 2.93373414e-05 1.07036544e-06]\n",
      " [5.27817041e+03 2.60962461e-05 8.55418079e-07]\n",
      " [5.59386816e+03 2.32117254e-05 6.83201279e-07]\n",
      " [5.92844775e+03 2.06450786e-05 5.45339617e-07]\n",
      " [6.28303955e+03 1.83619413e-05 4.35056876e-07]\n",
      " [6.65883984e+03 1.63311870e-05 3.46892534e-07]\n",
      " [7.05711768e+03 1.45252170e-05 2.76459645e-07]\n",
      " [7.47921729e+03 1.29191467e-05 2.20228927e-07]\n",
      " [7.92656348e+03 1.14910044e-05 1.75366182e-07]\n",
      " [8.40066602e+03 1.02211079e-05 1.39585850e-07]\n",
      " [8.90312598e+03 9.09188202e-06 1.11067060e-07]\n",
      " [9.43563770e+03 8.08770710e-06 8.83485853e-08]\n",
      " [1.00000020e+04 7.19478339e-06 7.02561920e-08]]\n"
     ]
    }
   ],
   "source": [
    "import numpy as np; import matplotlib.pyplot as plt\n",
    "#Change the run to whatever run number you are on\n",
    "\n",
    "fname = 'xray3601.dat'\n",
    "\n",
    "# If you open the data as a random text file we see that the real data starts at line 2\n",
    "data = np.loadtxt(fname, skiprows = 2) # Using skiprows allows us to skip the first two rows \n",
    "print(data)"
   ]
  },
  {
   "cell_type": "code",
   "execution_count": 56,
   "id": "d40a8026",
   "metadata": {},
   "outputs": [],
   "source": [
    "# Lets build some useful arrays from the header of this file \n",
    "headers = np.loadtxt(fname, delimiter=',', skiprows=1, max_rows= 1, dtype= object) #turns the second row into a array\n",
    "title = np.loadtxt(fname, max_rows=1, dtype=object)[0] #Gets the string in the array"
   ]
  },
  {
   "cell_type": "code",
   "execution_count": 25,
   "id": "5bc6f2ff",
   "metadata": {},
   "outputs": [
    {
     "data": {
      "text/html": [
       "<div>\n",
       "<style scoped>\n",
       "    .dataframe tbody tr th:only-of-type {\n",
       "        vertical-align: middle;\n",
       "    }\n",
       "\n",
       "    .dataframe tbody tr th {\n",
       "        vertical-align: top;\n",
       "    }\n",
       "\n",
       "    .dataframe thead th {\n",
       "        text-align: right;\n",
       "    }\n",
       "</style>\n",
       "<table border=\"1\" class=\"dataframe\">\n",
       "  <thead>\n",
       "    <tr style=\"text-align: right;\">\n",
       "      <th></th>\n",
       "      <th>Energy(eV)</th>\n",
       "      <th>Delta</th>\n",
       "      <th>Beta</th>\n",
       "    </tr>\n",
       "  </thead>\n",
       "  <tbody>\n",
       "    <tr>\n",
       "      <th>0</th>\n",
       "      <td>30.000000</td>\n",
       "      <td>0.274696</td>\n",
       "      <td>2.105414e-01</td>\n",
       "    </tr>\n",
       "    <tr>\n",
       "      <th>1</th>\n",
       "      <td>31.794359</td>\n",
       "      <td>0.252507</td>\n",
       "      <td>1.776982e-01</td>\n",
       "    </tr>\n",
       "    <tr>\n",
       "      <th>2</th>\n",
       "      <td>33.696037</td>\n",
       "      <td>0.229885</td>\n",
       "      <td>1.509331e-01</td>\n",
       "    </tr>\n",
       "    <tr>\n",
       "      <th>3</th>\n",
       "      <td>35.711460</td>\n",
       "      <td>0.208661</td>\n",
       "      <td>1.286479e-01</td>\n",
       "    </tr>\n",
       "    <tr>\n",
       "      <th>4</th>\n",
       "      <td>37.847431</td>\n",
       "      <td>0.188787</td>\n",
       "      <td>1.114788e-01</td>\n",
       "    </tr>\n",
       "    <tr>\n",
       "      <th>...</th>\n",
       "      <td>...</td>\n",
       "      <td>...</td>\n",
       "      <td>...</td>\n",
       "    </tr>\n",
       "    <tr>\n",
       "      <th>96</th>\n",
       "      <td>7926.563480</td>\n",
       "      <td>0.000011</td>\n",
       "      <td>1.753662e-07</td>\n",
       "    </tr>\n",
       "    <tr>\n",
       "      <th>97</th>\n",
       "      <td>8400.666020</td>\n",
       "      <td>0.000010</td>\n",
       "      <td>1.395859e-07</td>\n",
       "    </tr>\n",
       "    <tr>\n",
       "      <th>98</th>\n",
       "      <td>8903.125980</td>\n",
       "      <td>0.000009</td>\n",
       "      <td>1.110671e-07</td>\n",
       "    </tr>\n",
       "    <tr>\n",
       "      <th>99</th>\n",
       "      <td>9435.637700</td>\n",
       "      <td>0.000008</td>\n",
       "      <td>8.834859e-08</td>\n",
       "    </tr>\n",
       "    <tr>\n",
       "      <th>100</th>\n",
       "      <td>10000.002000</td>\n",
       "      <td>0.000007</td>\n",
       "      <td>7.025619e-08</td>\n",
       "    </tr>\n",
       "  </tbody>\n",
       "</table>\n",
       "<p>101 rows × 3 columns</p>\n",
       "</div>"
      ],
      "text/plain": [
       "       Energy(eV)     Delta          Beta\n",
       "0       30.000000  0.274696  2.105414e-01\n",
       "1       31.794359  0.252507  1.776982e-01\n",
       "2       33.696037  0.229885  1.509331e-01\n",
       "3       35.711460  0.208661  1.286479e-01\n",
       "4       37.847431  0.188787  1.114788e-01\n",
       "..            ...       ...           ...\n",
       "96    7926.563480  0.000011  1.753662e-07\n",
       "97    8400.666020  0.000010  1.395859e-07\n",
       "98    8903.125980  0.000009  1.110671e-07\n",
       "99    9435.637700  0.000008  8.834859e-08\n",
       "100  10000.002000  0.000007  7.025619e-08\n",
       "\n",
       "[101 rows x 3 columns]"
      ]
     },
     "execution_count": 25,
     "metadata": {},
     "output_type": "execute_result"
    }
   ],
   "source": [
    "# An alternate way of looking at this data is though a pandas dataframe this gives a more nice looking data array\n",
    "\n",
    "data1 = pd.DataFrame(data) #Loads the data into a dataframe\n",
    "data1.columns = headers # turns array into a header for the dataframe\n",
    "\n",
    "data1 "
   ]
  },
  {
   "cell_type": "markdown",
   "id": "3de85043-658a-4099-b44b-679a5df39409",
   "metadata": {},
   "source": [
    "## Plotting\n",
    "\n",
    "Moving onto our plotting we can do this either implictly or we can build figures. Documentation on this can be found though the [Matplotlib](https://matplotlib.org/) website. Since we want to use figures, we will use a more expicit method."
   ]
  },
  {
   "cell_type": "code",
   "execution_count": 55,
   "id": "cbdbe952-142d-4c6c-b453-07f8ad0e027b",
   "metadata": {},
   "outputs": [
    {
     "data": {
      "image/png": "[encoded data removed]",
      "text/plain": [
       "<Figure size 640x480 with 1 Axes>"
      ]
     },
     "metadata": {},
     "output_type": "display_data"
    }
   ],
   "source": [
    "fig1, ax1 = plt.subplots()\n",
    "ax1.loglog(data[:,0],data[:,1], 'b--')\n",
    "ax1.loglog(data[:,0],data[:,2], 'orange')\n",
    "ax1.set_xlim([np.amin(data[:,0]), np.amax(data[:,0])])\n",
    "\n",
    "ax1.legend(['Delta','Beta'])\n",
    "ax1.set_ylabel('Delta / Beta')\n",
    "ax1.set_xlabel('Energy [eV]')\n",
    "ax1.set_title(title)\n",
    "\n",
    "ax1.grid()\n"
   ]
  },
  {
   "attachments": {},
   "cell_type": "markdown",
   "id": "5533415e",
   "metadata": {},
   "source": [
    "Ignore Below this "
   ]
  },
  {
   "cell_type": "code",
   "execution_count": 40,
   "id": "54da4920-a014-4816-8874-4382034c1842",
   "metadata": {},
   "outputs": [],
   "source": [
    "# import fabio\n",
    "# img = fabio.open(edfpath)\n",
    "# #print(img.header)\n",
    "# \n",
    "# \n",
    "# plt.imshow(img.data)# Display as an image\n",
    "# plt.title(str(img.header['title']))\n",
    "# plt.xlim(400,800)\n",
    "# plt.ylim(1050,800)\n",
    "# plt.show()# Show GUI window\n",
    "# \n",
    "# #I dont know how we can be qualetative here with the heatmaps and whatnot. "
   ]
  },
  {
   "cell_type": "markdown",
   "id": "c021a085-6ace-420e-aa0e-b6a172eed5c8",
   "metadata": {},
   "source": []
  }
 ],
 "metadata": {
  "kernelspec": {
   "display_name": "xray",
   "language": "python",
   "name": "python3"
  },
  "language_info": {
   "codemirror_mode": {
    "name": "ipython",
    "version": 3
   },
   "file_extension": ".py",
   "mimetype": "text/x-python",
   "name": "python",
   "nbconvert_exporter": "python",
   "pygments_lexer": "ipython3",
   "version": "3.7.15"
  },
  "vscode": {
   "interpreter": {
    "hash": "f43064175ef27750ef0d7eb88fb40aca84983ac0e424e248e50aedb0a41ac415"
   }
  }
 },
 "nbformat": 4,
 "nbformat_minor": 5
}
